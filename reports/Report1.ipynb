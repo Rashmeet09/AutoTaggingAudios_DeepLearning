{
 "cells": [
  {
   "cell_type": "code",
   "execution_count": 1,
   "metadata": {
    "collapsed": false
   },
   "outputs": [
    {
     "name": "stderr",
     "output_type": "stream",
     "text": [
      "Using TensorFlow backend.\n"
     ]
    }
   ],
   "source": [
    "import time\n",
    "import librosa\n",
    "import numpy as np\n",
    "from keras import backend as K\n",
    "from CNNmodel_tensor import MusicTaggerCNN\n",
    "from sklearn.metrics import roc_curve,auc,roc_auc_score\n",
    "from keras.models import model_from_json\n",
    "import pdb\n",
    "import h5py"
   ]
  },
  {
   "cell_type": "code",
   "execution_count": 2,
   "metadata": {
    "collapsed": true
   },
   "outputs": [],
   "source": [
    "# fix random seed for reproducibility\n",
    "seed = 7\n",
    "np.random.seed(seed)\n",
    "\n",
    "#read it back\n",
    "dataset = h5py.File('train.h5', 'r')\n",
    "train_x = dataset.get('melgram')\n",
    "train_y = dataset.get('y')\n",
    "dataset = h5py.File('valid.h5', 'r')\n",
    "valid_x = dataset.get('melgram')\n",
    "valid_y = dataset.get('y')"
   ]
  },
  {
   "cell_type": "code",
   "execution_count": 3,
   "metadata": {
    "collapsed": true
   },
   "outputs": [],
   "source": [
    "def librosa_exists():\n",
    "    try:\n",
    "        __import__('librosa')\n",
    "    except ImportError:\n",
    "        return False\n",
    "    else:\n",
    "        return True"
   ]
  },
  {
   "cell_type": "code",
   "execution_count": null,
   "metadata": {
    "collapsed": true
   },
   "outputs": [],
   "source": [
    "def main(net):\n",
    "\n",
    "    print('Running main() with network: %s and backend: %s' % (net, K._BACKEND))\n",
    "\n",
    "    # load model like this\n",
    "    if net == 'cnn':\n",
    "        model = MusicTaggerCNN(weights=None)\n",
    "\n",
    "    print(model.input_shape)\n",
    "    #print melgrams.shape\n",
    "    print(train_x.shape)\n",
    "    \n",
    "    print(\"compiling\")\n",
    "    model.compile(loss='binary_crossentropy', optimizer='adam', metrics=['accuracy'])\n",
    "    print(\"training\")\n",
    "    model.fit(train_x, train_y, nb_epoch=100, batch_size=10, shuffle=False,verbose=2)\n",
    "    print(\"trained\")\n",
    "    y_score = model.predict(valid_x)\n",
    "    fpr, tpr, _ = roc_curve(valid_y[:,0],y_score[:, 0])\n",
    "    roc_auc = auc(fpr, tpr)\n",
    "    print(\"AUC: %f\" % roc_auc)\n",
    "    scores = model.evaluate(valid_x, valid_y)\n",
    "    print(\"%s: %.2f%%\" % (model.metrics_names[1], scores[1]*100))\n",
    " \n",
    "    model_json = model.to_json()\n",
    "    with open(\"model.json\",\"w\") as json_file:\n",
    "        json_file.write(model_json)\n",
    "    model.save_weights('model.h5')\n",
    "    print(\"Saved model to disk\")   \n",
    "\n",
    "    # predict the tags like this\n",
    "    '''print('Predicting...')\n",
    "    start = time.time()\n",
    "    pred_tags = model.predict(melgrams)\n",
    "    # print like this...\n",
    "    print(\"Prediction is done. It took %d seconds.\" % (time.time()-start))\n",
    "    print('Printing top-10 tags for each track...')\n",
    "    for song_idx, audio_path in enumerate(audio_paths):\n",
    "        sorted_result = sort_result(tags, pred_tags[song_idx, :].tolist())\n",
    "        print(audio_path)\n",
    "        print(sorted_result[:5])\n",
    "        print(sorted_result[5:10])\n",
    "        print(' ')\n",
    "    ''' "
   ]
  },
  {
   "cell_type": "code",
   "execution_count": null,
   "metadata": {
    "collapsed": false
   },
   "outputs": [
    {
     "name": "stdout",
     "output_type": "stream",
     "text": [
      "Running main() with network: cnn and backend: tensorflow\n",
      "(None, 96, 1366)\n",
      "(16758, 96, 1366)\n",
      "compiling\n",
      "training\n",
      "Epoch 1/100\n",
      "196s - loss: 0.1902 - acc: 0.9353\n",
      "Epoch 2/100\n",
      "196s - loss: 0.1690 - acc: 0.9390\n",
      "Epoch 3/100\n",
      "205s - loss: 0.1605 - acc: 0.9409\n",
      "Epoch 4/100\n",
      "200s - loss: 0.1538 - acc: 0.9426\n",
      "Epoch 5/100\n",
      "196s - loss: 0.1472 - acc: 0.9443\n",
      "Epoch 6/100\n",
      "196s - loss: 0.1401 - acc: 0.9464\n",
      "Epoch 7/100\n",
      "197s - loss: 0.1319 - acc: 0.9490\n",
      "Epoch 8/100\n",
      "196s - loss: 0.1218 - acc: 0.9528\n",
      "Epoch 9/100\n",
      "196s - loss: 0.1098 - acc: 0.9576\n",
      "Epoch 10/100\n",
      "198s - loss: 0.0965 - acc: 0.9631\n",
      "Epoch 11/100\n",
      "197s - loss: 0.0829 - acc: 0.9688\n",
      "Epoch 12/100\n",
      "201s - loss: 0.0705 - acc: 0.9738\n",
      "Epoch 13/100\n",
      "198s - loss: 0.0598 - acc: 0.9779\n",
      "Epoch 14/100\n",
      "196s - loss: 0.0523 - acc: 0.9808\n",
      "Epoch 15/100\n",
      "197s - loss: 0.0454 - acc: 0.9833\n",
      "Epoch 16/100\n",
      "199s - loss: 0.0393 - acc: 0.9858\n",
      "Epoch 17/100\n",
      "200s - loss: 0.0338 - acc: 0.9879\n",
      "Epoch 18/100\n",
      "197s - loss: 0.0293 - acc: 0.9895\n",
      "Epoch 19/100\n",
      "196s - loss: 0.0266 - acc: 0.9905\n",
      "Epoch 20/100\n",
      "204s - loss: 0.0232 - acc: 0.9919\n",
      "Epoch 21/100\n",
      "199s - loss: 0.0207 - acc: 0.9928\n",
      "Epoch 22/100\n",
      "202s - loss: 0.0189 - acc: 0.9934\n",
      "Epoch 23/100\n",
      "201s - loss: 0.0169 - acc: 0.9943\n",
      "Epoch 24/100\n",
      "203s - loss: 0.0153 - acc: 0.9949\n",
      "Epoch 25/100\n",
      "201s - loss: 0.0147 - acc: 0.9950\n",
      "Epoch 26/100\n",
      "199s - loss: 0.0135 - acc: 0.9954\n",
      "Epoch 27/100\n",
      "199s - loss: 0.0129 - acc: 0.9957\n",
      "Epoch 28/100\n",
      "199s - loss: 0.0124 - acc: 0.9958\n",
      "Epoch 29/100\n",
      "199s - loss: 0.0116 - acc: 0.9961\n",
      "Epoch 30/100\n",
      "199s - loss: 0.0111 - acc: 0.9962\n",
      "Epoch 31/100\n",
      "199s - loss: 0.0104 - acc: 0.9965\n",
      "Epoch 32/100\n",
      "199s - loss: 0.0097 - acc: 0.9967\n",
      "Epoch 33/100\n",
      "199s - loss: 0.0099 - acc: 0.9966\n",
      "Epoch 34/100\n",
      "200s - loss: 0.0093 - acc: 0.9968\n",
      "Epoch 35/100\n",
      "199s - loss: 0.0087 - acc: 0.9970\n",
      "Epoch 36/100\n",
      "200s - loss: 0.0084 - acc: 0.9971\n",
      "Epoch 37/100\n",
      "200s - loss: 0.0087 - acc: 0.9970\n",
      "Epoch 38/100\n",
      "202s - loss: 0.0079 - acc: 0.9973\n",
      "Epoch 39/100\n",
      "200s - loss: 0.0079 - acc: 0.9973\n",
      "Epoch 40/100\n",
      "199s - loss: 0.0074 - acc: 0.9974\n",
      "Epoch 41/100\n",
      "200s - loss: 0.0072 - acc: 0.9975\n",
      "Epoch 42/100\n",
      "200s - loss: 0.0070 - acc: 0.9976\n",
      "Epoch 43/100\n",
      "205s - loss: 0.0071 - acc: 0.9976\n",
      "Epoch 44/100\n",
      "208s - loss: 0.0065 - acc: 0.9978\n",
      "Epoch 45/100\n",
      "195s - loss: 0.0074 - acc: 0.9974\n",
      "Epoch 46/100\n",
      "199s - loss: 0.0058 - acc: 0.9981\n",
      "Epoch 47/100\n",
      "315s - loss: 0.0064 - acc: 0.9978\n",
      "Epoch 48/100\n",
      "291s - loss: 0.0060 - acc: 0.9979\n",
      "Epoch 49/100\n",
      "249s - loss: 0.0063 - acc: 0.9978\n",
      "Epoch 50/100\n",
      "236s - loss: 0.0055 - acc: 0.9981\n",
      "Epoch 51/100\n",
      "234s - loss: 0.0055 - acc: 0.9981\n",
      "Epoch 52/100\n",
      "199s - loss: 0.0059 - acc: 0.9979\n",
      "Epoch 53/100\n",
      "196s - loss: 0.0055 - acc: 0.9981\n",
      "Epoch 54/100\n",
      "198s - loss: 0.0054 - acc: 0.9982\n",
      "Epoch 55/100\n",
      "200s - loss: 0.0051 - acc: 0.9982\n",
      "Epoch 56/100\n",
      "205s - loss: 0.0053 - acc: 0.9982\n",
      "Epoch 57/100\n",
      "201s - loss: 0.0050 - acc: 0.9982\n",
      "Epoch 58/100\n"
     ]
    }
   ],
   "source": [
    "if __name__ == '__main__':\n",
    "\n",
    "    networks = ['cnn']\n",
    "    for net in networks:\n",
    "    \tmain(net)"
   ]
  },
  {
   "cell_type": "code",
   "execution_count": null,
   "metadata": {
    "collapsed": true
   },
   "outputs": [],
   "source": []
  }
 ],
 "metadata": {
  "anaconda-cloud": {},
  "kernelspec": {
   "display_name": "Python [default]",
   "language": "python",
   "name": "python3"
  },
  "language_info": {
   "codemirror_mode": {
    "name": "ipython",
    "version": 3
   },
   "file_extension": ".py",
   "mimetype": "text/x-python",
   "name": "python",
   "nbconvert_exporter": "python",
   "pygments_lexer": "ipython3",
   "version": "3.5.2"
  }
 },
 "nbformat": 4,
 "nbformat_minor": 2
}
